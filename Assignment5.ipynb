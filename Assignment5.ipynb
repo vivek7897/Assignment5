{
 "cells": [
  {
   "cell_type": "code",
   "execution_count": null,
   "id": "8d62c118-6248-4e95-acad-97270ad97756",
   "metadata": {},
   "outputs": [],
   "source": [
    "1. Who developed python programming language?"
   ]
  },
  {
   "cell_type": "code",
   "execution_count": null,
   "id": "3d340b45-e571-4454-aab2-1d9ff1e37ccc",
   "metadata": {},
   "outputs": [],
   "source": [
    "# ANSWER\n",
    "Guido van Rossum."
   ]
  },
  {
   "cell_type": "code",
   "execution_count": null,
   "id": "7a6269a2-f6e8-43be-bca2-cc6724d66a0b",
   "metadata": {},
   "outputs": [],
   "source": [
    "2. Which type of programming does python support?"
   ]
  },
  {
   "cell_type": "code",
   "execution_count": null,
   "id": "50c03985-7334-4579-8d9b-d47df9b0c217",
   "metadata": {},
   "outputs": [],
   "source": [
    "# ANSWER\n",
    "Object oriented programming and structured programming."
   ]
  },
  {
   "cell_type": "code",
   "execution_count": null,
   "id": "2f458960-5c11-4260-ae20-f3dd2d701ea3",
   "metadata": {},
   "outputs": [],
   "source": [
    "3.Is python case sensitive when dealing with identifiers? "
   ]
  },
  {
   "cell_type": "code",
   "execution_count": null,
   "id": "d0f75359-520a-4728-963b-4cd377991b33",
   "metadata": {},
   "outputs": [],
   "source": [
    "Python Identifiers can only contain letters, digits, and underscores. They must start with a letter or an underscore. \n",
    "Python Identifiers cannot be the same as Python keywords. "
   ]
  },
  {
   "cell_type": "code",
   "execution_count": null,
   "id": "fb293340-5c24-4687-ab65-12d77d8c3ec3",
   "metadata": {},
   "outputs": [],
   "source": [
    "4. What is the correct extension of the python files?"
   ]
  },
  {
   "cell_type": "code",
   "execution_count": null,
   "id": "656bb9f1-0eb0-4cb0-9d9a-db879b74952d",
   "metadata": {},
   "outputs": [],
   "source": [
    "# ANSWER\n",
    "pyc files. . pyc: This is the file extension for compiled Python code files."
   ]
  },
  {
   "cell_type": "code",
   "execution_count": null,
   "id": "57575e0a-2053-4970-9572-651e98e4a6cc",
   "metadata": {},
   "outputs": [],
   "source": [
    "5. Is python code compoled or interpreted?"
   ]
  },
  {
   "cell_type": "code",
   "execution_count": null,
   "id": "3d1463ab-8d10-4ad4-940b-6b01aded043b",
   "metadata": {},
   "outputs": [],
   "source": [
    "# ANSWER\n",
    "Python is both compiled as well as an interpreted language, \n",
    "which means when we run a python code, it is first compiled and then interpreted line by line.\n"
   ]
  },
  {
   "cell_type": "code",
   "execution_count": null,
   "id": "0561c5e9-cc0b-4eb3-add8-6e049290a087",
   "metadata": {},
   "outputs": [],
   "source": [
    "6. Name a few block of code used to define in python language?"
   ]
  },
  {
   "cell_type": "code",
   "execution_count": null,
   "id": "a6e352df-6725-4f5d-a782-2a52b20b5803",
   "metadata": {},
   "outputs": [],
   "source": [
    "# ANSWER\n",
    "Structure of a program. A Python program is constructed from code blocks. A block is a piece of Python program text that is executed as a unit.\n",
    "The following are blocks: a module, a function body, and a class definition."
   ]
  },
  {
   "cell_type": "code",
   "execution_count": null,
   "id": "6ffbdbe6-4441-41c9-a906-f31179f52e56",
   "metadata": {},
   "outputs": [],
   "source": [
    "7.State a character used to give single - line comments in python?"
   ]
  },
  {
   "cell_type": "code",
   "execution_count": null,
   "id": "8913fdb6-ab22-4124-9c5a-b63c648d50af",
   "metadata": {},
   "outputs": [],
   "source": [
    "# ANSWWR\n",
    "in Python, we use the hash symbol # to write a single-line comment.\n"
   ]
  },
  {
   "cell_type": "code",
   "execution_count": null,
   "id": "d17b521c-9490-486c-afb8-44815bb42bf5",
   "metadata": {},
   "outputs": [],
   "source": [
    "8. Mention function which can help us to find the version of python that we are currently working on ?"
   ]
  },
  {
   "cell_type": "code",
   "execution_count": null,
   "id": "3583addf-6aa1-498b-a24b-998c2160d044",
   "metadata": {},
   "outputs": [],
   "source": [
    " # ANSWER\n",
    "    The function sys. version can help us to find the version of python that we are currently working on. \n",
    "    It also contains information on the build number and compiler used. For example, 3.5."
   ]
  },
  {
   "cell_type": "code",
   "execution_count": null,
   "id": "5d4b2729-2b2e-4c91-8ca4-efff5d437b73",
   "metadata": {},
   "outputs": [],
   "source": [
    "9. Python support the creation of anonymoys function at runnung time , used a constructor called"
   ]
  },
  {
   "cell_type": "code",
   "execution_count": null,
   "id": "6c35477c-05ad-4ac7-b80f-cb69321d45a6",
   "metadata": {},
   "outputs": [],
   "source": [
    "# ANSWER\n",
    " Lambda"
   ]
  },
  {
   "cell_type": "code",
   "execution_count": null,
   "id": "a01f4f98-29c1-4a75-a4f8-c2f3443a29c5",
   "metadata": {},
   "outputs": [],
   "source": [
    "10.What does pip stand for python?"
   ]
  },
  {
   "cell_type": "code",
   "execution_count": null,
   "id": "cf304f89-d826-482c-ba5a-4cd5ef44b676",
   "metadata": {},
   "outputs": [],
   "source": [
    "# ANSWER\n",
    "installing Python packages "
   ]
  },
  {
   "cell_type": "code",
   "execution_count": null,
   "id": "5acfd50a-7813-4fe5-adaa-a78af3e87a25",
   "metadata": {},
   "outputs": [],
   "source": [
    "11. Mention a few built- in functions in python?"
   ]
  },
  {
   "cell_type": "code",
   "execution_count": null,
   "id": "6834ee37-5910-427a-8fc9-9f2ff9166367",
   "metadata": {},
   "outputs": [],
   "source": [
    "# ANSWER\n",
    "Python Built-in Functions · Python abs() · Python all() · Python any() · Python ascii() · Python bin() · Python bool() · Python bytearray() · Python bytes()."
   ]
  },
  {
   "cell_type": "code",
   "execution_count": null,
   "id": "e64010a2-f816-41a9-836d-67e5237e97b3",
   "metadata": {},
   "outputs": [],
   "source": [
    "12.What is the maximum possible length of an identifer in python?"
   ]
  },
  {
   "cell_type": "code",
   "execution_count": null,
   "id": "533e0053-7404-403f-be63-28a4c4ed8684",
   "metadata": {},
   "outputs": [],
   "source": [
    "# ANSWER\n",
    "identifier can have a maximum length of 79 characters in Python.\n",
    "Python is one of the most popular programming languages. Guido van Rossum created it, and it was released in 1991."
   ]
  },
  {
   "cell_type": "code",
   "execution_count": null,
   "id": "ba47ac5e-8541-497c-934d-288c9d41825f",
   "metadata": {},
   "outputs": [],
   "source": [
    "13. What are the benifits of using python?"
   ]
  },
  {
   "cell_type": "code",
   "execution_count": null,
   "id": "cd48091c-26c8-4979-8cd9-8c4c1a72009b",
   "metadata": {},
   "outputs": [],
   "source": [
    "# ANSWEWR\n",
    "Simple to Use and Understand. For newcomers, Python is simple to understand and use.\n",
    "Free and Open-Source. Video Player is loading. \n",
    "Productivity has Increased. \n",
    "Interpreted Language.\n",
    "Extensive library. \n",
    "Dynamically Typed.\n",
    "Portability. \n",
    "Supportive community."
   ]
  },
  {
   "cell_type": "code",
   "execution_count": null,
   "id": "da7dc4c4-aa12-4344-a141-4093f0ec1880",
   "metadata": {},
   "outputs": [],
   "source": [
    "14. How is memory management in python?"
   ]
  },
  {
   "cell_type": "code",
   "execution_count": null,
   "id": "750cecfe-d639-4821-a3f1-bea0d0f863e6",
   "metadata": {},
   "outputs": [],
   "source": [
    "# ANSWER\n",
    "Memory in Python is managed by Python private heap space. All Python objects and data structures are located in a private heap. \n",
    "This private heap is taken care of by Python Interpreter itself, and a programmer doesn't have access to this private heap."
   ]
  },
  {
   "cell_type": "code",
   "execution_count": null,
   "id": "96ca05fc-7aed-4299-814f-8f8c3449ae64",
   "metadata": {},
   "outputs": [],
   "source": [
    "15. How to install python on windows and set path variables?"
   ]
  },
  {
   "cell_type": "code",
   "execution_count": null,
   "id": "c39abf5c-725b-4478-b1b1-0c60e8cc56bf",
   "metadata": {},
   "outputs": [],
   "source": [
    "# ANSWER\n",
    "Right click on My Computer and click on properties.\n",
    "1-Click on Advanced System settings.\n",
    "2-Click on Environment Variable tab.\n",
    "3-Click on new tab of user variables.\n",
    "4-Write path in variable name.\n",
    "5-Copy the path of Python folder.\n",
    "6-Paste path of Python in variable value. Click on Ok button: Click on Ok button:\n"
   ]
  },
  {
   "cell_type": "code",
   "execution_count": null,
   "id": "f7d3ee9a-0ad7-4310-a019-3947436709dc",
   "metadata": {},
   "outputs": [],
   "source": [
    "16. Is indention required in pyrhon?"
   ]
  },
  {
   "cell_type": "code",
   "execution_count": null,
   "id": "aaa642c0-1e19-4eea-b841-b0e10714dc83",
   "metadata": {},
   "outputs": [],
   "source": [
    "# ANSWER\n",
    "Indentation is necessary for Python. It specifies a block of code.\n",
    "All code within loops, classes, functions, etc is specified within an indented block. It is usually done using four space characters."
   ]
  }
 ],
 "metadata": {
  "kernelspec": {
   "display_name": "Python 3 (ipykernel)",
   "language": "python",
   "name": "python3"
  },
  "language_info": {
   "codemirror_mode": {
    "name": "ipython",
    "version": 3
   },
   "file_extension": ".py",
   "mimetype": "text/x-python",
   "name": "python",
   "nbconvert_exporter": "python",
   "pygments_lexer": "ipython3",
   "version": "3.10.8"
  }
 },
 "nbformat": 4,
 "nbformat_minor": 5
}
